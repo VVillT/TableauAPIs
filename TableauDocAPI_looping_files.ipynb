{
 "cells": [
  {
   "cell_type": "code",
   "execution_count": 67,
   "metadata": {},
   "outputs": [],
   "source": [
    "from tableaudocumentapi import Datasource\n",
    "import numpy as np\n",
    "import pandas as pd\n",
    "import csv, os , datetime ,pprint\n",
    "from tableaudocumentapi import Workbook\n",
    "from tableaudocumentapi import *"
   ]
  },
  {
   "cell_type": "markdown",
   "metadata": {},
   "source": [
    "### List of actions: \n",
    "    1. Work out a workbook list \n",
    "    2. Functionalise the workbook to datasources functions \n",
    "    3. Functionalise the datasources to DF \n",
    "    3. Collapse dfs into single df "
   ]
  },
  {
   "cell_type": "code",
   "execution_count": 2,
   "metadata": {},
   "outputs": [
    {
     "name": "stdout",
     "output_type": "stream",
     "text": [
      "['.ipynb_checkpoints', 'databases.csv', 'replicate_workbook.py', 'sample-superstore.twb', 'World Happiness.twb']\n"
     ]
    }
   ],
   "source": [
    "os.chdir('document-api-python-master\\\\samples\\\\replicate-workbook\\\\')\n",
    "print(os.listdir())"
   ]
  },
  {
   "cell_type": "code",
   "execution_count": 17,
   "metadata": {},
   "outputs": [
    {
     "name": "stdout",
     "output_type": "stream",
     "text": [
      "sample-superstore.twb\n",
      "World Happiness.twb\n"
     ]
    },
    {
     "data": {
      "text/plain": [
       "[None, None]"
      ]
     },
     "execution_count": 17,
     "metadata": {},
     "output_type": "execute_result"
    }
   ],
   "source": [
    "[print(n) for n in os.listdir() if n.endswith(('.twb'))]"
   ]
  },
  {
   "cell_type": "code",
   "execution_count": 22,
   "metadata": {},
   "outputs": [
    {
     "name": "stdout",
     "output_type": "stream",
     "text": [
      "<class 'list'>\n",
      "['sample-superstore.twb', 'World Happiness.twb']\n"
     ]
    }
   ],
   "source": [
    "todo = [n for n  in os.listdir() if n.endswith(('.twb'))]\n",
    "print(type(todo))\n",
    "print(todo)"
   ]
  },
  {
   "cell_type": "code",
   "execution_count": 40,
   "metadata": {},
   "outputs": [],
   "source": [
    "def datasources2df(wbf,rds):\n",
    "    ds1 = pd.DataFrame([f.__dict__.values() for f in rds.fields.values()], columns = [f.__dict__.keys() for f in rds.fields.values()][1])\n",
    "    ds2 = pd.DataFrame([f for f in rds.fields.keys()],columns = ['name'])\n",
    "    ds = ds2.join(ds1)\n",
    "    #Clean Column Names:\n",
    "    ds.columns = [col.replace('_','') for col in ds.columns]\n",
    "    #Clean Variable Names: \n",
    "    ds['name'] = ds['name'].str.replace('[','').str.replace(']','')\n",
    "    #Import workbook information:\n",
    "    ds['datasoure_caption'] = str(rds.caption)\n",
    "    ds['datasoure_connections'] = str(rds.connections)\n",
    "    ds['datasoure_name'] = str(rds.name)\n",
    "    ds['datasoure_version'] = str(rds.version)\n",
    "    ds['from_wb'] = str(Workbook(wbf).filename)\n",
    "    return ds"
   ]
  },
  {
   "cell_type": "code",
   "execution_count": 79,
   "metadata": {},
   "outputs": [
    {
     "name": "stdout",
     "output_type": "stream",
     "text": [
      "Name :  sample-superstore.twb\n",
      "<tableaudocumentapi.datasource.Datasource object at 0x0000020BB6586208>  :  sqlserver.187oiqw1ls5tey1df9op71phda18 \n",
      " Orders (sample_superstore)\n",
      "dict_keys(['_id', '_caption', '_datatype', '_role', '_type', '_alias', '_calculation', '_description', '_aggregation', '_worksheets'])\n",
      "ID :  1\n",
      "(25, 16)\n",
      "Name :  World Happiness.twb\n",
      "<tableaudocumentapi.datasource.Datasource object at 0x0000020BB6604A20>  :  federated.0ne8o6b1yp56zg1cblpoy03mpgbl \n",
      " WorldHappniessCountries2015to2017\n",
      "dict_keys(['_id', '_caption', '_datatype', '_role', '_type', '_alias', '_calculation', '_description', '_aggregation', '_worksheets'])\n",
      "ID :  2\n",
      "(40, 16)\n"
     ]
    }
   ],
   "source": [
    "list4dfs = {}\n",
    "for n, twb in enumerate(todo): \n",
    "    for ds in Workbook(twb).datasources:\n",
    "        print (\"Name : \" ,Workbook(twb).filename)\n",
    "        print (ds, \" : \" ,ds.name , '\\n',ds.caption)\n",
    "        print ([f.__dict__.keys() for f in ds.fields.values()][1])\n",
    "        print (\"ID : \" ,n+1)\n",
    "        list4dfs[n+1] = datasources2df(twb, ds)\n",
    "        print (list4dfs[n+1].shape)\n",
    "#ds"
   ]
  },
  {
   "cell_type": "code",
   "execution_count": 80,
   "metadata": {},
   "outputs": [
    {
     "name": "stdout",
     "output_type": "stream",
     "text": [
      "(65, 16)\n",
      "28    ['<Connection server='' dbname='None' @ 0x20bb...\n",
      "2     ['<Connection server='superstore.sample.db' db...\n",
      "17    ['<Connection server='superstore.sample.db' db...\n",
      "24    ['<Connection server='superstore.sample.db' db...\n",
      "49    ['<Connection server='' dbname='None' @ 0x20bb...\n",
      "Name: datasoure_connections, dtype: object\n"
     ]
    }
   ],
   "source": [
    "totdf = pd.concat(list4dfs.values(), ignore_index=True)\n",
    "print(totdf.shape)\n",
    "pprint.pprint(totdf['datasoure_connections'].sample(5))"
   ]
  },
  {
   "cell_type": "code",
   "execution_count": 77,
   "metadata": {},
   "outputs": [
    {
     "name": "stdout",
     "output_type": "stream",
     "text": [
      "3     ['<Connection server='superstore.sample.db' db...\n",
      "9     ['<Connection server='superstore.sample.db' db...\n",
      "15    ['<Connection server='superstore.sample.db' db...\n",
      "21    ['<Connection server='superstore.sample.db' db...\n",
      "27    ['<Connection server='' dbname='None' @ 0x20bb...\n",
      "33    ['<Connection server='' dbname='None' @ 0x20bb...\n",
      "39    ['<Connection server='' dbname='None' @ 0x20bb...\n",
      "Name: datasoure_connections, dtype: object\n"
     ]
    }
   ],
   "source": [
    "print(totdf['datasoure_connections'][3:45:6])"
   ]
  },
  {
   "cell_type": "code",
   "execution_count": 61,
   "metadata": {},
   "outputs": [
    {
     "name": "stdout",
     "output_type": "stream",
     "text": [
      "dict_keys([1, 2])\n"
     ]
    },
    {
     "data": {
      "text/plain": [
       "dict"
      ]
     },
     "execution_count": 61,
     "metadata": {},
     "output_type": "execute_result"
    }
   ],
   "source": [
    "print(list4dfs.keys())\n",
    "type(list4dfs)"
   ]
  }
 ],
 "metadata": {
  "kernelspec": {
   "display_name": "Python 3",
   "language": "python",
   "name": "python3"
  },
  "language_info": {
   "codemirror_mode": {
    "name": "ipython",
    "version": 3
   },
   "file_extension": ".py",
   "mimetype": "text/x-python",
   "name": "python",
   "nbconvert_exporter": "python",
   "pygments_lexer": "ipython3",
   "version": "3.6.8"
  }
 },
 "nbformat": 4,
 "nbformat_minor": 2
}
