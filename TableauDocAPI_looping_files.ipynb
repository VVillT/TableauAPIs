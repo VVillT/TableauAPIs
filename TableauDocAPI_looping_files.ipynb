{
 "cells": [
  {
   "cell_type": "code",
   "execution_count": 1,
   "metadata": {},
   "outputs": [],
   "source": [
    "from tableaudocumentapi import Datasource\n",
    "import numpy as np\n",
    "import pandas as pd\n",
    "import csv, os , datetime ,pprint\n",
    "from tableaudocumentapi import Workbook\n",
    "from tableaudocumentapi import *"
   ]
  },
  {
   "cell_type": "markdown",
   "metadata": {},
   "source": [
    "### List of actions: \n",
    "    1. Work out a workbook list \n",
    "    2. Functionalise the workbook to datasources functions \n",
    "    3. Functionalise the datasources to DF \n",
    "    3. Collapse dfs into single df "
   ]
  },
  {
   "cell_type": "code",
   "execution_count": 2,
   "metadata": {},
   "outputs": [
    {
     "name": "stdout",
     "output_type": "stream",
     "text": [
      "['.ipynb_checkpoints', 'databases.csv', 'replicate_workbook.py', 'sample-superstore.twb', 'World Happiness.twb']\n"
     ]
    }
   ],
   "source": [
    "os.chdir('document-api-python-master\\\\samples\\\\replicate-workbook\\\\')\n",
    "print(os.listdir())"
   ]
  },
  {
   "cell_type": "code",
   "execution_count": 3,
   "metadata": {},
   "outputs": [
    {
     "name": "stdout",
     "output_type": "stream",
     "text": [
      "sample-superstore.twb\n",
      "World Happiness.twb\n"
     ]
    },
    {
     "data": {
      "text/plain": [
       "[None, None]"
      ]
     },
     "execution_count": 3,
     "metadata": {},
     "output_type": "execute_result"
    }
   ],
   "source": [
    "[print(n) for n in os.listdir() if n.endswith(('.twb'))]"
   ]
  },
  {
   "cell_type": "code",
   "execution_count": 4,
   "metadata": {},
   "outputs": [
    {
     "name": "stdout",
     "output_type": "stream",
     "text": [
      "<class 'list'>\n",
      "['sample-superstore.twb', 'World Happiness.twb']\n"
     ]
    }
   ],
   "source": [
    "todo = [n for n  in os.listdir() if n.endswith(('.twb'))]\n",
    "print(type(todo))\n",
    "print(todo)"
   ]
  },
  {
   "cell_type": "code",
   "execution_count": 5,
   "metadata": {},
   "outputs": [],
   "source": [
    "def datasources2df(wbf,rds):\n",
    "    ds1 = pd.DataFrame([f.__dict__.values() for f in rds.fields.values()], columns = [f.__dict__.keys() for f in rds.fields.values()][1])\n",
    "    ds2 = pd.DataFrame([f for f in rds.fields.keys()],columns = ['name'])\n",
    "    ds = ds2.join(ds1)\n",
    "    #Clean Column Names:\n",
    "    ds.columns = [col.replace('_','') for col in ds.columns]\n",
    "    #Clean Variable Names: \n",
    "    ds['name'] = ds['name'].str.replace('[','').str.replace(']','')\n",
    "    #Import workbook information:\n",
    "    ds['datasoure_caption'] = str(rds.caption)\n",
    "    ds['datasoure_connections'] = str(rds.connections)\n",
    "    ds['datasoure_name'] = str(rds.name)\n",
    "    ds['datasoure_version'] = str(rds.version)\n",
    "    ds['from_wb'] = str(Workbook(wbf).filename)\n",
    "    return ds"
   ]
  },
  {
   "cell_type": "code",
   "execution_count": 6,
   "metadata": {},
   "outputs": [
    {
     "name": "stdout",
     "output_type": "stream",
     "text": [
      "Name :  sample-superstore.twb\n",
      "<tableaudocumentapi.datasource.Datasource object at 0x00000175ACB76CC0>  :  sqlserver.187oiqw1ls5tey1df9op71phda18 \n",
      " Orders (sample_superstore)\n",
      "dict_keys(['_id', '_caption', '_datatype', '_role', '_type', '_alias', '_calculation', '_description', '_aggregation', '_worksheets'])\n",
      "ID :  1\n",
      "(25, 16)\n",
      "Name :  World Happiness.twb\n",
      "<tableaudocumentapi.datasource.Datasource object at 0x00000175ACC38CF8>  :  federated.0ne8o6b1yp56zg1cblpoy03mpgbl \n",
      " WorldHappniessCountries2015to2017\n",
      "dict_keys(['_id', '_caption', '_datatype', '_role', '_type', '_alias', '_calculation', '_description', '_aggregation', '_worksheets'])\n",
      "ID :  2\n",
      "(40, 16)\n"
     ]
    }
   ],
   "source": [
    "list4dfs = {}\n",
    "for n, twb in enumerate(todo): \n",
    "    for ds in Workbook(twb).datasources:\n",
    "        print (\"Name : \" ,Workbook(twb).filename)\n",
    "        print (ds, \" : \" ,ds.name , '\\n',ds.caption)\n",
    "        print ([f.__dict__.keys() for f in ds.fields.values()][1])\n",
    "        print (\"ID : \" ,n+1)\n",
    "        list4dfs[n+1] = datasources2df(twb, ds)\n",
    "        print (list4dfs[n+1].shape)\n",
    "#ds"
   ]
  },
  {
   "cell_type": "code",
   "execution_count": 7,
   "metadata": {},
   "outputs": [
    {
     "name": "stdout",
     "output_type": "stream",
     "text": [
      "(65, 16)\n",
      "41    ['<Connection server='' dbname='None' @ 0x175a...\n",
      "0     ['<Connection server='superstore.sample.db' db...\n",
      "27    ['<Connection server='' dbname='None' @ 0x175a...\n",
      "43    ['<Connection server='' dbname='None' @ 0x175a...\n",
      "25    ['<Connection server='' dbname='None' @ 0x175a...\n",
      "Name: datasoure_connections, dtype: object\n"
     ]
    }
   ],
   "source": [
    "totdf = pd.concat(list4dfs.values(), ignore_index=True)\n",
    "print(totdf.shape)\n",
    "pprint.pprint(totdf['datasoure_connections'].sample(5))"
   ]
  },
  {
   "cell_type": "code",
   "execution_count": 8,
   "metadata": {},
   "outputs": [
    {
     "name": "stdout",
     "output_type": "stream",
     "text": [
      "3     ['<Connection server='superstore.sample.db' db...\n",
      "9     ['<Connection server='superstore.sample.db' db...\n",
      "15    ['<Connection server='superstore.sample.db' db...\n",
      "21    ['<Connection server='superstore.sample.db' db...\n",
      "27    ['<Connection server='' dbname='None' @ 0x175a...\n",
      "33    ['<Connection server='' dbname='None' @ 0x175a...\n",
      "39    ['<Connection server='' dbname='None' @ 0x175a...\n",
      "Name: datasoure_connections, dtype: object\n"
     ]
    }
   ],
   "source": [
    "print(totdf['datasoure_connections'][3:45:6])"
   ]
  },
  {
   "cell_type": "code",
   "execution_count": 9,
   "metadata": {},
   "outputs": [
    {
     "name": "stdout",
     "output_type": "stream",
     "text": [
      "dict_keys([1, 2])\n"
     ]
    },
    {
     "data": {
      "text/plain": [
       "dict"
      ]
     },
     "execution_count": 9,
     "metadata": {},
     "output_type": "execute_result"
    }
   ],
   "source": [
    "print(list4dfs.keys())\n",
    "type(list4dfs)"
   ]
  },
  {
   "cell_type": "code",
   "execution_count": 28,
   "metadata": {},
   "outputs": [
    {
     "name": "stdout",
     "output_type": "stream",
     "text": [
      "<class 'pandas.core.frame.DataFrame'>\n",
      "RangeIndex: 65 entries, 0 to 64\n",
      "Data columns (total 16 columns):\n",
      "name                     65 non-null object\n",
      "id                       65 non-null object\n",
      "caption                  5 non-null object\n",
      "datatype                 65 non-null object\n",
      "role                     20 non-null object\n",
      "type                     20 non-null object\n",
      "alias                    27 non-null object\n",
      "calculation              5 non-null object\n",
      "description              0 non-null object\n",
      "aggregation              43 non-null object\n",
      "worksheets               65 non-null object\n",
      "datasoure_caption        65 non-null object\n",
      "datasoure_connections    65 non-null object\n",
      "datasoure_name           65 non-null object\n",
      "datasoure_version        65 non-null object\n",
      "from_wb                  65 non-null object\n",
      "dtypes: object(16)\n",
      "memory usage: 8.2+ KB\n",
      "None\n",
      "Index(['name', 'id', 'caption', 'datatype', 'role', 'type', 'alias',\n",
      "       'calculation', 'description', 'aggregation', 'worksheets',\n",
      "       'datasoure_caption', 'datasoure_connections', 'datasoure_name',\n",
      "       'datasoure_version', 'from_wb'],\n",
      "      dtype='object')\n"
     ]
    }
   ],
   "source": [
    "print(totdf.info())\n",
    "print(totdf.columns)"
   ]
  },
  {
   "cell_type": "code",
   "execution_count": 31,
   "metadata": {},
   "outputs": [
    {
     "name": "stdout",
     "output_type": "stream",
     "text": [
      "<class 'pandas.core.frame.DataFrame'>\n",
      "RangeIndex: 130 entries, 0 to 129\n",
      "Data columns (total 17 columns):\n",
      "name                     130 non-null object\n",
      "id                       130 non-null object\n",
      "caption                  10 non-null object\n",
      "datatype                 130 non-null object\n",
      "role                     40 non-null object\n",
      "type                     40 non-null object\n",
      "alias                    54 non-null object\n",
      "calculation              10 non-null object\n",
      "description              0 non-null object\n",
      "aggregation              86 non-null object\n",
      "datasoure_caption        130 non-null object\n",
      "datasoure_connections    130 non-null object\n",
      "datasoure_name           130 non-null object\n",
      "datasoure_version        130 non-null object\n",
      "from_wb                  130 non-null object\n",
      "variable                 130 non-null object\n",
      "worksheet                21 non-null object\n",
      "dtypes: object(17)\n",
      "memory usage: 17.3+ KB\n",
      "None\n",
      "Index(['name', 'id', 'caption', 'datatype', 'role', 'type', 'alias',\n",
      "       'calculation', 'description', 'aggregation', 'datasoure_caption',\n",
      "       'datasoure_connections', 'datasoure_name', 'datasoure_version',\n",
      "       'from_wb', 'variable', 'worksheet'],\n",
      "      dtype='object')\n",
      "                name                   id caption datatype       role  \\\n",
      "0               City               [City]    None   string  dimension   \n",
      "1            Country            [Country]    None   string  dimension   \n",
      "2  Number of Records  [Number of Records]    None  integer    measure   \n",
      "3        Postal Code        [Postal Code]    None     real  dimension   \n",
      "4             Row ID             [Row ID]    None     real  dimension   \n",
      "\n",
      "           type alias calculation description aggregation  \\\n",
      "0       nominal  None        None        None       Count   \n",
      "1       nominal  None        None        None       Count   \n",
      "2  quantitative  None           1        None        None   \n",
      "3       ordinal  None        None        None         Sum   \n",
      "4       ordinal  None        None        None         Sum   \n",
      "\n",
      "            datasoure_caption  \\\n",
      "0  Orders (sample_superstore)   \n",
      "1  Orders (sample_superstore)   \n",
      "2  Orders (sample_superstore)   \n",
      "3  Orders (sample_superstore)   \n",
      "4  Orders (sample_superstore)   \n",
      "\n",
      "                               datasoure_connections  \\\n",
      "0  ['<Connection server='superstore.sample.db' db...   \n",
      "1  ['<Connection server='superstore.sample.db' db...   \n",
      "2  ['<Connection server='superstore.sample.db' db...   \n",
      "3  ['<Connection server='superstore.sample.db' db...   \n",
      "4  ['<Connection server='superstore.sample.db' db...   \n",
      "\n",
      "                           datasoure_name datasoure_version  \\\n",
      "0  sqlserver.187oiqw1ls5tey1df9op71phda18               9.3   \n",
      "1  sqlserver.187oiqw1ls5tey1df9op71phda18               9.3   \n",
      "2  sqlserver.187oiqw1ls5tey1df9op71phda18               9.3   \n",
      "3  sqlserver.187oiqw1ls5tey1df9op71phda18               9.3   \n",
      "4  sqlserver.187oiqw1ls5tey1df9op71phda18               9.3   \n",
      "\n",
      "                 from_wb variable worksheet  \n",
      "0  sample-superstore.twb        0       NaN  \n",
      "1  sample-superstore.twb        0       NaN  \n",
      "2  sample-superstore.twb        0       NaN  \n",
      "3  sample-superstore.twb        0       NaN  \n",
      "4  sample-superstore.twb        0       NaN  \n"
     ]
    }
   ],
   "source": [
    "outdf = totdf.worksheets.apply(list).apply(pd.Series) \\\n",
    "    .merge(totdf, left_index = True, right_index = True) \\\n",
    "    .drop([\"worksheets\"], axis = 1) \\\n",
    "    .melt(id_vars = ['name', 'id', 'caption', 'datatype', 'role', 'type', 'alias', 'calculation', \n",
    "                     'description', 'aggregation', 'datasoure_caption', 'datasoure_connections', 'datasoure_name',\n",
    "                       'datasoure_version', 'from_wb'], value_name = \"worksheet\")\n",
    "print(outdf.info())\n",
    "print(outdf.columns)\n",
    "pprint.pprint(outdf.head())"
   ]
  },
  {
   "cell_type": "code",
   "execution_count": null,
   "metadata": {},
   "outputs": [],
   "source": []
  }
 ],
 "metadata": {
  "kernelspec": {
   "display_name": "Python 3",
   "language": "python",
   "name": "python3"
  },
  "language_info": {
   "codemirror_mode": {
    "name": "ipython",
    "version": 3
   },
   "file_extension": ".py",
   "mimetype": "text/x-python",
   "name": "python",
   "nbconvert_exporter": "python",
   "pygments_lexer": "ipython3",
   "version": "3.6.8"
  }
 },
 "nbformat": 4,
 "nbformat_minor": 2
}
