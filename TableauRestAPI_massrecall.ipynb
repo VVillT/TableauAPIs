{
 "cells": [
  {
   "cell_type": "code",
   "execution_count": null,
   "metadata": {},
   "outputs": [],
   "source": [
    "from tableaudocumentapi import Datasource\n",
    "import numpy as np\n",
    "import pandas as pd\n",
    "import csv, os , datetime ,pprint\n",
    "from tableaudocumentapi import Workbook\n",
    "from tableaudocumentapi import *\n",
    "import tableauserverclient as TSC"
   ]
  },
  {
   "cell_type": "code",
   "execution_count": null,
   "metadata": {},
   "outputs": [],
   "source": [
    "tableau_auth = TSC.TableauAuth('myuser', 'password')\n",
    "server = TSC.Server('tableau.server')"
   ]
  },
  {
   "cell_type": "code",
   "execution_count": null,
   "metadata": {},
   "outputs": [],
   "source": [
    "with server.auth.sign_in(tableau_auth):\n",
    "    download_all_workbooks(server, download_dir)"
   ]
  },
  {
   "cell_type": "code",
   "execution_count": null,
   "metadata": {},
   "outputs": [],
   "source": [
    "# download all workbooks from server\n",
    "\n",
    "def download_all_workbooks(server,download_dir):\n",
    "\n",
    "    for server_workbook in TSC.Pager(server.workbooks):\n",
    "\n",
    "        wb_download_dir = os.path.join(download_dir,server_workbook.project_name)\n",
    "\n",
    "        if not os.path.exists(wb_download_dir):\n",
    "\n",
    "            os.makedirs(wb_download_dir)\n",
    "\n",
    "        path = server.workbooks.download(server_workbook.id, filepath=wb_download_dir,include_extract=False)\n",
    "\n",
    "        print(\"Downloaded workbook to {}\".format(path))"
   ]
  }
 ],
 "metadata": {
  "kernelspec": {
   "display_name": "Python 3",
   "language": "python",
   "name": "python3"
  },
  "language_info": {
   "codemirror_mode": {
    "name": "ipython",
    "version": 3
   },
   "file_extension": ".py",
   "mimetype": "text/x-python",
   "name": "python",
   "nbconvert_exporter": "python",
   "pygments_lexer": "ipython3",
   "version": "3.6.8"
  }
 },
 "nbformat": 4,
 "nbformat_minor": 2
}
